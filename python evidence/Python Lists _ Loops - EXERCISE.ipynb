{
 "cells": [
  {
   "cell_type": "markdown",
   "metadata": {
    "id": "ZvNsvUNNlZbi"
   },
   "source": [
    "---\n",
    "#Crash Course Python for Data Science - Intro to Python  \n",
    "---\n",
    "# 02 and 03 - Python Lists & Loops\n",
    "---\n",
    "\n"
   ]
  },
  {
   "cell_type": "markdown",
   "metadata": {
    "id": "y8HUQb0OOztX"
   },
   "source": [
    "## STOP! BEFORE GOING ANY FURTHER...  \n",
    "\n",
    "Remember, this exercises are open book, open neighbour, open everything! Try to do them on your own before looking at the solution samples.\n",
    "\n"
   ]
  },
  {
   "cell_type": "markdown",
   "metadata": {},
   "source": []
  },
  {
   "cell_type": "markdown",
   "metadata": {
    "id": "o57NvhYkBjKH"
   },
   "source": [
    "## Part 1: Lists\n"
   ]
  },
  {
   "cell_type": "markdown",
   "metadata": {
    "id": "4haXpvn1QXW_"
   },
   "source": [
    "### Use the provided lists to answer the questions and prompts.\n",
    "Make sure to run the cell so the lists are declared with their corresponding values."
   ]
  },
  {
   "cell_type": "code",
   "execution_count": 2,
   "metadata": {
    "id": "PweN-CTws2EV"
   },
   "outputs": [],
   "source": [
    "heights = [184, 177, 190, 188, 159, 166]\n",
    "weights = [84.5, 81.8, 86.1, 92.2, 69.6, 72.0 ]\n",
    "names = ['John', 'Ryan', 'Bobby', 'Pete', 'Esther', 'Jane']"
   ]
  },
  {
   "cell_type": "markdown",
   "metadata": {},
   "source": []
  },
  {
   "cell_type": "markdown",
   "metadata": {
    "id": "hC6x5WJaMRGx"
   },
   "source": [
    "### 1.1 Create a new empty list named \"BMI\"."
   ]
  },
  {
   "cell_type": "code",
   "execution_count": 3,
   "metadata": {
    "id": "ptyWgNmmq3Cn"
   },
   "outputs": [],
   "source": [
    "### YOUR CODE GOES HERE ###\n",
    "BMI=[]"
   ]
  },
  {
   "cell_type": "markdown",
   "metadata": {
    "id": "QSk1zFf4Qbzk"
   },
   "source": [
    "### 1.2 Combine the three lists into a new list where each element is a person's name, weight, and height. Call it `person_data`."
   ]
  },
  {
   "cell_type": "code",
   "execution_count": 7,
   "metadata": {
    "id": "hrTb-Gx3rCdJ"
   },
   "outputs": [
    {
     "data": {
      "text/plain": [
       "[['John', 84.5, 184],\n",
       " ['Ryan', 81.8, 177],\n",
       " ['Bobby', 86.1, 190],\n",
       " ['Pete', 92.2, 188],\n",
       " ['Esther', 69.6, 159],\n",
       " ['Jane', 72.0, 166]]"
      ]
     },
     "execution_count": 7,
     "metadata": {},
     "output_type": "execute_result"
    }
   ],
   "source": [
    "### YOUR CODE GOES HERE ###\n",
    "person_data = []\n",
    "for i, j , k in zip(names, weights, heights):\n",
    "  person_data.append([i,j,k])\n",
    "\n",
    "person_data\n"
   ]
  },
  {
   "cell_type": "markdown",
   "metadata": {
    "id": "y_dSEp2ZNS20"
   },
   "source": [
    "### 1.3 Retrieve the last element of `person_data`."
   ]
  },
  {
   "cell_type": "code",
   "execution_count": 9,
   "metadata": {
    "id": "fDwiHRwLroLD"
   },
   "outputs": [
    {
     "data": {
      "text/plain": [
       "['Jane', 72.0, 166]"
      ]
     },
     "execution_count": 9,
     "metadata": {},
     "output_type": "execute_result"
    }
   ],
   "source": [
    "### YOUR CODE GOES HERE ###\n",
    "person_data[-1]"
   ]
  },
  {
   "cell_type": "markdown",
   "metadata": {
    "id": "_L1Cbf6lNd5s"
   },
   "source": [
    "### 1.4 Retrieve the 2nd and 3rd elements of `person_data`."
   ]
  },
  {
   "cell_type": "code",
   "execution_count": 18,
   "metadata": {
    "id": "n29Civonryz6"
   },
   "outputs": [
    {
     "data": {
      "text/plain": [
       "[['Ryan', 81.8, 177], ['Bobby', 86.1, 190]]"
      ]
     },
     "execution_count": 18,
     "metadata": {},
     "output_type": "execute_result"
    }
   ],
   "source": [
    "### YOUR CODE GOES HERE ###\n",
    "person_data[1:3]"
   ]
  },
  {
   "cell_type": "markdown",
   "metadata": {
    "id": "MzTE8IADOKUR"
   },
   "source": [
    "### 1.5 Change the 1st element of `person_data`: increase weight to 84.9. Keep the other values unchanged."
   ]
  },
  {
   "cell_type": "code",
   "execution_count": 23,
   "metadata": {
    "id": "tQRE4Y73sRzQ"
   },
   "outputs": [
    {
     "data": {
      "text/plain": [
       "['John', 88.90000000000006, 184]"
      ]
     },
     "execution_count": 23,
     "metadata": {},
     "output_type": "execute_result"
    }
   ],
   "source": [
    "### YOUR CODE GOES HERE ###\n",
    "person_data[0][1] = person_data[0][1] + 0.4\n",
    "person_data[0]"
   ]
  },
  {
   "cell_type": "markdown",
   "metadata": {
    "id": "P1f4pyPjNlzm"
   },
   "source": [
    "### 1.6 Add another person, Samantha, to `person_data`. Her height is 162 cm and her weight is 51.3 kg. "
   ]
  },
  {
   "cell_type": "code",
   "execution_count": 27,
   "metadata": {
    "id": "BYwmhie6seVd"
   },
   "outputs": [
    {
     "data": {
      "text/plain": [
       "[['John', 88.90000000000006, 184],\n",
       " ['Ryan', 81.8, 177],\n",
       " ['Bobby', 86.1, 190],\n",
       " ['Pete', 92.2, 188],\n",
       " ['Esther', 69.6, 159],\n",
       " ['Jane', 72.0, 166],\n",
       " ['samantha', 51.3, 162],\n",
       " ['samantha', 51.3, 162],\n",
       " ['samantha', 51.3, 162]]"
      ]
     },
     "execution_count": 27,
     "metadata": {},
     "output_type": "execute_result"
    }
   ],
   "source": [
    "### YOUR CODE GOES HERE ###\n",
    "person_data.append(['samantha',51.3,162])\n",
    "person_data"
   ]
  },
  {
   "cell_type": "markdown",
   "metadata": {
    "id": "_pdhsa2YOxwj"
   },
   "source": [
    "## Part 2: Loops"
   ]
  },
  {
   "cell_type": "markdown",
   "metadata": {
    "id": "1R_O3Uu3O2--"
   },
   "source": [
    "### 2.1 Explain a for loop in your own words."
   ]
  },
  {
   "cell_type": "markdown",
   "metadata": {
    "id": "n-K_-jnoPArb"
   },
   "source": [
    "*Double click this Text Cell to write your answer below* <br>\n",
    "Answer: "
   ]
  },
  {
   "cell_type": "markdown",
   "metadata": {
    "id": "73tWnAoaPHNf"
   },
   "source": [
    "### 2.2 Use a for loop to calculate the BMI of each person.\n",
    ">$\\frac{Weight(kg)}{Height(m)^2} = BMI$  "
   ]
  },
  {
   "cell_type": "code",
   "execution_count": 38,
   "metadata": {
    "id": "sAbRcbcZs-dC"
   },
   "outputs": [
    {
     "name": "stdout",
     "output_type": "stream",
     "text": [
      "the bmi of John is 26\n",
      "the bmi of Ryan is 26\n",
      "the bmi of Bobby is 24\n",
      "the bmi of Pete is 26\n",
      "the bmi of Esther is 28\n",
      "the bmi of Jane is 26\n",
      "the bmi of samantha is 20\n",
      "the bmi of samantha is 20\n",
      "the bmi of samantha is 20\n"
     ]
    }
   ],
   "source": [
    "### YOUR CODE GOES HERE ###\n",
    "for s, element in enumerate(person_data):\n",
    "    w = person_data[s][1]\n",
    "    h = (person_data[s][2])/100\n",
    "    bmi =round(w/(h*h))\n",
    "    print('the bmi of '+ person_data[s][0] + ' is ' + str(bmi))\n"
   ]
  },
  {
   "cell_type": "markdown",
   "metadata": {
    "id": "rIRg70QvOxCu"
   },
   "source": [
    "### 2.2 BONUS: Do it using list comprehension."
   ]
  },
  {
   "cell_type": "code",
   "execution_count": 42,
   "metadata": {
    "id": "8XD-e2-ntEiV"
   },
   "outputs": [
    {
     "name": "stdout",
     "output_type": "stream",
     "text": [
      "[[26], [26], [24], [26], [28], [26], [20], [20], [20]]\n"
     ]
    }
   ],
   "source": [
    "### YOUR CODE GOES HERE ###\n",
    "bmi = [[(round(person_data[s][1]/((person_data[s][2])/100)**2))] for s, element in enumerate(person_data)]\n",
    "print(bmi)"
   ]
  }
 ],
 "metadata": {
  "colab": {
   "collapsed_sections": [],
   "name": "Python Lists & Loops - EXERCISE.ipynb",
   "provenance": [
    {
     "file_id": "1ILDi0e8vXD_29lPeZaP_ZCvzepCuVtCm",
     "timestamp": 1574173515113
    },
    {
     "file_id": "1ylAmdhvhlNzWGSMpdOeYU5Y91nW3wlK-",
     "timestamp": 1566948311949
    },
    {
     "file_id": "1scRLpBtHS0jXC72opqLsj3wMHilVELnZ",
     "timestamp": 1559565212046
    },
    {
     "file_id": "1Gj8xFEghBwX8exDkdBWvNSzOUTYlNxI9",
     "timestamp": 1559546697443
    },
    {
     "file_id": "1TeHiJ5s48kWFy5BosIWhjK2MQyMkPHNo",
     "timestamp": 1559546187577
    },
    {
     "file_id": "1f_9CXFJzBvrAePaDr_WYQGHEBS5th53b",
     "timestamp": 1559541190636
    }
   ]
  },
  "kernelspec": {
   "display_name": "Python 3",
   "name": "python3"
  },
  "language_info": {
   "codemirror_mode": {
    "name": "ipython",
    "version": 3
   },
   "file_extension": ".py",
   "mimetype": "text/x-python",
   "name": "python",
   "nbconvert_exporter": "python",
   "pygments_lexer": "ipython3",
   "version": "3.13.1"
  }
 },
 "nbformat": 4,
 "nbformat_minor": 0
}
