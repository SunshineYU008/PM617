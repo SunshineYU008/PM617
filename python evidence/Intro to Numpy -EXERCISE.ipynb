{
 "cells": [
  {
   "cell_type": "markdown",
   "metadata": {
    "colab_type": "text",
    "id": "ZvNsvUNNlZbi"
   },
   "source": [
    "---\n",
    "# Crash Course Python for Data Science - Intro to Python  \n",
    "---\n",
    "# 06 - Numpy\n",
    "---\n",
    "\n"
   ]
  },
  {
   "cell_type": "markdown",
   "metadata": {
    "colab_type": "text",
    "id": "y8HUQb0OOztX"
   },
   "source": [
    "## STOP! BEFORE GOING ANY FURTHER...  \n",
    "\n",
    "Remember, this exercises are open book, open neighbour, open everything! Try to do them on your own before looking at the solution samples.\n",
    "\n"
   ]
  },
  {
   "cell_type": "markdown",
   "metadata": {
    "colab_type": "text",
    "id": "xMq6Of2Gt24o"
   },
   "source": [
    "### Import Numpy as Np"
   ]
  },
  {
   "cell_type": "code",
   "execution_count": 1,
   "metadata": {
    "colab": {},
    "colab_type": "code",
    "id": "h3r0IvHVuGJb"
   },
   "outputs": [
    {
     "name": "stdout",
     "output_type": "stream",
     "text": [
      "NumPy imported!\n"
     ]
    }
   ],
   "source": [
    "# Make sure you run this cell first\n",
    "import numpy as np\n",
    "print('NumPy imported!')"
   ]
  },
  {
   "cell_type": "markdown",
   "metadata": {
    "colab_type": "text",
    "id": "DvYie7qokbDH"
   },
   "source": [
    "### Generate random numbers\n",
    "Create a (5,3) Numpy array of random integer values between 0 and 100."
   ]
  },
  {
   "cell_type": "code",
   "execution_count": 3,
   "metadata": {
    "colab": {},
    "colab_type": "code",
    "id": "tuk3ihI444Lz"
   },
   "outputs": [
    {
     "data": {
      "text/plain": [
       "array([[51,  9, 99],\n",
       "       [24, 70, 21],\n",
       "       [64, 18, 66],\n",
       "       [16, 97,  9],\n",
       "       [98, 33, 67]])"
      ]
     },
     "execution_count": 3,
     "metadata": {},
     "output_type": "execute_result"
    }
   ],
   "source": [
    "### YOUR CODE GOES HERE ###\n",
    "x = np.random.randint(0,100,(5,3))\n",
    "x"
   ]
  },
  {
   "cell_type": "code",
   "execution_count": 4,
   "metadata": {
    "cellView": "form",
    "colab": {},
    "colab_type": "code",
    "id": "UNJo_50VktRs"
   },
   "outputs": [
    {
     "data": {
      "text/plain": [
       "array([[47, 93, 66],\n",
       "       [18, 46, 88],\n",
       "       [91, 92, 12],\n",
       "       [27,  3,  7],\n",
       "       [49, 56, 37]])"
      ]
     },
     "execution_count": 4,
     "metadata": {},
     "output_type": "execute_result"
    }
   ],
   "source": [
    "#@title Double click here for a sample solution\n",
    "\n",
    "x = np.random.randint(0,100, (5,3))\n",
    "x"
   ]
  },
  {
   "cell_type": "markdown",
   "metadata": {
    "colab_type": "text",
    "id": "CYy4Zp5pk7tS"
   },
   "source": [
    "### Array practice"
   ]
  },
  {
   "cell_type": "code",
   "execution_count": 5,
   "metadata": {
    "colab": {},
    "colab_type": "code",
    "id": "JkmYBBgJ5g8V"
   },
   "outputs": [
    {
     "data": {
      "text/plain": [
       "array([47, 93, 66])"
      ]
     },
     "execution_count": 5,
     "metadata": {},
     "output_type": "execute_result"
    }
   ],
   "source": [
    "# Return the first row:\n",
    "\n",
    "### YOUR CODE GOES HERE ###\n",
    "x[0,]"
   ]
  },
  {
   "cell_type": "code",
   "execution_count": 6,
   "metadata": {
    "cellView": "form",
    "colab": {},
    "colab_type": "code",
    "id": "lIxLoTfGl910"
   },
   "outputs": [
    {
     "data": {
      "text/plain": [
       "array([47, 93, 66])"
      ]
     },
     "execution_count": 6,
     "metadata": {},
     "output_type": "execute_result"
    }
   ],
   "source": [
    "#@title Double click here for a sample solution\n",
    "\n",
    "# Return the first row:\n",
    "x[0,]"
   ]
  },
  {
   "cell_type": "code",
   "execution_count": 9,
   "metadata": {
    "colab": {},
    "colab_type": "code",
    "id": "WLengwbz5m-U"
   },
   "outputs": [
    {
     "data": {
      "text/plain": [
       "array([66, 88, 12,  7, 37])"
      ]
     },
     "execution_count": 9,
     "metadata": {},
     "output_type": "execute_result"
    }
   ],
   "source": [
    "# Return last column\n",
    "\n",
    "### YOUR CODE GOES HERE ###\n",
    "x[:,-1]"
   ]
  },
  {
   "cell_type": "code",
   "execution_count": 8,
   "metadata": {
    "cellView": "form",
    "colab": {},
    "colab_type": "code",
    "id": "lMafok6zoGB-"
   },
   "outputs": [
    {
     "data": {
      "text/plain": [
       "array([66, 88, 12,  7, 37])"
      ]
     },
     "execution_count": 8,
     "metadata": {},
     "output_type": "execute_result"
    }
   ],
   "source": [
    "#@title Double click here for a sample solution\n",
    "\n",
    "# Return last column\n",
    "x[:, -1]"
   ]
  },
  {
   "cell_type": "code",
   "execution_count": 10,
   "metadata": {
    "colab": {},
    "colab_type": "code",
    "id": "miN2u44O5rOw"
   },
   "outputs": [
    {
     "data": {
      "text/plain": [
       "array([ 7, 37])"
      ]
     },
     "execution_count": 10,
     "metadata": {},
     "output_type": "execute_result"
    }
   ],
   "source": [
    "# Return the third column values from the 4th and 5th rows\n",
    "\n",
    "### YOUR CODE GOES HERE ###\n",
    "x[3:5,2]"
   ]
  },
  {
   "cell_type": "code",
   "execution_count": 11,
   "metadata": {
    "cellView": "form",
    "colab": {},
    "colab_type": "code",
    "id": "6yQ6CcTgutmi"
   },
   "outputs": [
    {
     "data": {
      "text/plain": [
       "array([ 7, 37])"
      ]
     },
     "execution_count": 11,
     "metadata": {},
     "output_type": "execute_result"
    }
   ],
   "source": [
    "#@title Double click here for a sample solution\n",
    "\n",
    "# Return the third column values from the 4th and 5th rows\n",
    "x[3:5,2]"
   ]
  },
  {
   "cell_type": "code",
   "execution_count": 12,
   "metadata": {
    "colab": {},
    "colab_type": "code",
    "id": "rIlF6C4V57Vs"
   },
   "outputs": [
    {
     "data": {
      "text/plain": [
       "array([[ 94, 186, 132],\n",
       "       [ 36,  92, 176],\n",
       "       [182, 184,  24],\n",
       "       [ 54,   6,  14],\n",
       "       [ 98, 112,  74]])"
      ]
     },
     "execution_count": 12,
     "metadata": {},
     "output_type": "execute_result"
    }
   ],
   "source": [
    "# Multiply every value in the array by 2\n",
    "\n",
    "### YOUR CODE GOES HERE ###\n",
    "x*2"
   ]
  },
  {
   "cell_type": "code",
   "execution_count": 13,
   "metadata": {
    "cellView": "form",
    "colab": {},
    "colab_type": "code",
    "id": "_uAfgS2huxKs"
   },
   "outputs": [
    {
     "data": {
      "text/plain": [
       "array([[ 94, 186, 132],\n",
       "       [ 36,  92, 176],\n",
       "       [182, 184,  24],\n",
       "       [ 54,   6,  14],\n",
       "       [ 98, 112,  74]])"
      ]
     },
     "execution_count": 13,
     "metadata": {},
     "output_type": "execute_result"
    }
   ],
   "source": [
    "#@title Double click here for a sample solution\n",
    "\n",
    "# Multiply every value in the array by 2\n",
    "x*2"
   ]
  },
  {
   "cell_type": "code",
   "execution_count": 14,
   "metadata": {
    "colab": {},
    "colab_type": "code",
    "id": "bOe7VPNX6BSf"
   },
   "outputs": [
    {
     "data": {
      "text/plain": [
       "array([[15.66666667, 31.        , 22.        ],\n",
       "       [ 6.        , 15.33333333, 29.33333333],\n",
       "       [30.33333333, 30.66666667,  4.        ],\n",
       "       [ 9.        ,  1.        ,  2.33333333],\n",
       "       [16.33333333, 18.66666667, 12.33333333]])"
      ]
     },
     "execution_count": 14,
     "metadata": {},
     "output_type": "execute_result"
    }
   ],
   "source": [
    "# Divide every value by 3\n",
    "\n",
    "### YOUR CODE GOES HERE ###\n",
    "x/3"
   ]
  },
  {
   "cell_type": "code",
   "execution_count": 15,
   "metadata": {
    "cellView": "form",
    "colab": {},
    "colab_type": "code",
    "id": "7ys4zegYu2bg"
   },
   "outputs": [
    {
     "data": {
      "text/plain": [
       "array([[15.66666667, 31.        , 22.        ],\n",
       "       [ 6.        , 15.33333333, 29.33333333],\n",
       "       [30.33333333, 30.66666667,  4.        ],\n",
       "       [ 9.        ,  1.        ,  2.33333333],\n",
       "       [16.33333333, 18.66666667, 12.33333333]])"
      ]
     },
     "execution_count": 15,
     "metadata": {},
     "output_type": "execute_result"
    }
   ],
   "source": [
    "#@title Double click here for a sample solution\n",
    "\n",
    "# Divide every value by 3\n",
    "x/3"
   ]
  },
  {
   "cell_type": "code",
   "execution_count": 16,
   "metadata": {
    "colab": {},
    "colab_type": "code",
    "id": "8m4fiyxk6F8F"
   },
   "outputs": [
    {
     "data": {
      "text/plain": [
       "array([[ 59, 105,  78],\n",
       "       [ 18,  46,  88],\n",
       "       [ 91,  92,  12],\n",
       "       [ 27,   3,   7],\n",
       "       [ 49,  56,  37]])"
      ]
     },
     "execution_count": 16,
     "metadata": {},
     "output_type": "execute_result"
    }
   ],
   "source": [
    "# Increase the values in the first row by 12\n",
    "\n",
    "### YOUR CODE GOES HERE ###\n",
    "x[0,] = x[0,] + 12\n",
    "x"
   ]
  },
  {
   "cell_type": "code",
   "execution_count": 17,
   "metadata": {
    "cellView": "form",
    "colab": {},
    "colab_type": "code",
    "id": "Gf8PLLDLu8yO"
   },
   "outputs": [
    {
     "data": {
      "text/plain": [
       "array([[ 71, 117,  90],\n",
       "       [ 18,  46,  88],\n",
       "       [ 91,  92,  12],\n",
       "       [ 27,   3,   7],\n",
       "       [ 49,  56,  37]])"
      ]
     },
     "execution_count": 17,
     "metadata": {},
     "output_type": "execute_result"
    }
   ],
   "source": [
    "#@title Double click here for a sample solution\n",
    "\n",
    "# Increase the values in the first row by 12\n",
    "x[0,] = x[0,] + 12\n",
    "x"
   ]
  },
  {
   "cell_type": "code",
   "execution_count": 18,
   "metadata": {
    "colab": {},
    "colab_type": "code",
    "id": "2n50I7TC6LDF"
   },
   "outputs": [
    {
     "data": {
      "text/plain": [
       "np.float64(51.2)"
      ]
     },
     "execution_count": 18,
     "metadata": {},
     "output_type": "execute_result"
    }
   ],
   "source": [
    "# Calculate the mean of the first column\n",
    "\n",
    "### YOUR CODE GOES HERE ###\n",
    "x[:,0].mean()"
   ]
  },
  {
   "cell_type": "code",
   "execution_count": 19,
   "metadata": {
    "cellView": "form",
    "colab": {},
    "colab_type": "code",
    "id": "0YTgjIRVu-Tk"
   },
   "outputs": [
    {
     "data": {
      "text/plain": [
       "np.float64(51.2)"
      ]
     },
     "execution_count": 19,
     "metadata": {},
     "output_type": "execute_result"
    }
   ],
   "source": [
    "#@title Double click here for a sample solution\n",
    "\n",
    "# Calculate the mean of the first column\n",
    "x[:,0].mean()"
   ]
  },
  {
   "cell_type": "code",
   "execution_count": 20,
   "metadata": {
    "colab": {},
    "colab_type": "code",
    "id": "EGnUcNsu6QaG"
   },
   "outputs": [
    {
     "data": {
      "text/plain": [
       "np.float64(56.0)"
      ]
     },
     "execution_count": 20,
     "metadata": {},
     "output_type": "execute_result"
    }
   ],
   "source": [
    "# Calculate the median of the array after removing the 2 smallest values in the array\n",
    "\n",
    "### YOUR CODE GOES HERE ###\n",
    "x1 = np.delete(x, x.argmin())\n",
    "x1 = np.delete(x1,x1.argmin())\n",
    "np.median(x1)"
   ]
  },
  {
   "cell_type": "code",
   "execution_count": 21,
   "metadata": {
    "cellView": "form",
    "colab": {},
    "colab_type": "code",
    "id": "r_0ucAvMu_lT"
   },
   "outputs": [
    {
     "data": {
      "text/plain": [
       "np.float64(56.0)"
      ]
     },
     "execution_count": 21,
     "metadata": {},
     "output_type": "execute_result"
    }
   ],
   "source": [
    "#@title Double click here for a sample solution\n",
    "\n",
    "# Calculate the median of the array after removing the 2 smallest values in the array\n",
    "x1 = np.delete(x, x.argmin())\n",
    "x1 = np.delete(x1, x1.argmin())\n",
    "np.median(x1)\n"
   ]
  },
  {
   "cell_type": "code",
   "execution_count": 22,
   "metadata": {
    "colab": {},
    "colab_type": "code",
    "id": "R-jy3YK46XJh"
   },
   "outputs": [
    {
     "data": {
      "text/plain": [
       "np.float64(34.15686399575774)"
      ]
     },
     "execution_count": 22,
     "metadata": {},
     "output_type": "execute_result"
    }
   ],
   "source": [
    "# Calculate the standard deviation of the first 3 rows\n",
    "\n",
    "### YOUR CODE GOES HERE ###\n",
    "np.std(x[:3],)"
   ]
  },
  {
   "cell_type": "code",
   "execution_count": 23,
   "metadata": {
    "cellView": "form",
    "colab": {},
    "colab_type": "code",
    "id": "V9ncUcdYvA_w"
   },
   "outputs": [
    {
     "data": {
      "text/plain": [
       "np.float64(34.15686399575774)"
      ]
     },
     "execution_count": 23,
     "metadata": {},
     "output_type": "execute_result"
    }
   ],
   "source": [
    "#@title Double click here for a sample solution\n",
    "\n",
    "# Calculate the standard deviation of the first 3 rows\n",
    "np.std(x[:3],)"
   ]
  },
  {
   "cell_type": "code",
   "execution_count": 24,
   "metadata": {
    "colab": {},
    "colab_type": "code",
    "id": "vhVL5EN_6crc"
   },
   "outputs": [
    {
     "name": "stdout",
     "output_type": "stream",
     "text": [
      "values bigger than 25 on the second column =  [117  46  92  56]\n"
     ]
    }
   ],
   "source": [
    "# Return values in the second column greater than 25\n",
    "\n",
    "### YOUR CODE GOES HERE ###\n",
    "print('values bigger than 25 on the second column = ', x[:,1][x[:,1]>25])"
   ]
  },
  {
   "cell_type": "code",
   "execution_count": 25,
   "metadata": {
    "cellView": "form",
    "colab": {},
    "colab_type": "code",
    "id": "eZv0Bv0LvCX0"
   },
   "outputs": [
    {
     "name": "stdout",
     "output_type": "stream",
     "text": [
      "Values bigger than 25 on the second column = [117  46  92  56]\n"
     ]
    }
   ],
   "source": [
    "#@title Double click here for a sample solution\n",
    "\n",
    "# Return values in the second column greater than 25\n",
    "print(\"Values bigger than 25 on the second column =\", x[:,1][x[:,1]>25])"
   ]
  },
  {
   "cell_type": "code",
   "execution_count": 26,
   "metadata": {
    "colab": {},
    "colab_type": "code",
    "id": "m-5gH97R6hj1"
   },
   "outputs": [
    {
     "name": "stdout",
     "output_type": "stream",
     "text": [
      "values under 40 in array = [18 12 27  3  7 37]\n"
     ]
    }
   ],
   "source": [
    "# Return values in the array under 40\n",
    "\n",
    "### YOUR CODE GOES HERE ###\n",
    "print('values under 40 in array =', x[x<40])"
   ]
  },
  {
   "cell_type": "code",
   "execution_count": 27,
   "metadata": {
    "cellView": "form",
    "colab": {},
    "colab_type": "code",
    "id": "AZPejsMgvDlr"
   },
   "outputs": [
    {
     "name": "stdout",
     "output_type": "stream",
     "text": [
      "Values under 40 in array = [18 12 27  3  7 37]\n"
     ]
    }
   ],
   "source": [
    "#@title Double click here for a sample solution\n",
    "\n",
    "# Return values in the array under 40\n",
    "print(\"Values under 40 in array =\", x[x<40])"
   ]
  }
 ],
 "metadata": {
  "colab": {
   "collapsed_sections": [],
   "name": "Intro to Numpy -EXERCISE.ipynb",
   "provenance": [
    {
     "file_id": "1vYNAOjBKKDfJjQhfYyHiilvJKYtV6xvU",
     "timestamp": 1574183847770
    },
    {
     "file_id": "1n6NmJmUpxhIPn4ZCsbK2tiV6PZ6MDD00",
     "timestamp": 1566950097327
    },
    {
     "file_id": "1wlKS2ySxKKZ6msBXn-8S8qe-4rRoWSKI",
     "timestamp": 1560402395187
    },
    {
     "file_id": "1scRLpBtHS0jXC72opqLsj3wMHilVELnZ",
     "timestamp": 1560164436155
    },
    {
     "file_id": "1Gj8xFEghBwX8exDkdBWvNSzOUTYlNxI9",
     "timestamp": 1559546697443
    },
    {
     "file_id": "1TeHiJ5s48kWFy5BosIWhjK2MQyMkPHNo",
     "timestamp": 1559546187577
    },
    {
     "file_id": "1f_9CXFJzBvrAePaDr_WYQGHEBS5th53b",
     "timestamp": 1559541190636
    }
   ]
  },
  "kernelspec": {
   "display_name": "Python 3",
   "name": "python3"
  },
  "language_info": {
   "codemirror_mode": {
    "name": "ipython",
    "version": 3
   },
   "file_extension": ".py",
   "mimetype": "text/x-python",
   "name": "python",
   "nbconvert_exporter": "python",
   "pygments_lexer": "ipython3",
   "version": "3.13.1"
  }
 },
 "nbformat": 4,
 "nbformat_minor": 0
}
