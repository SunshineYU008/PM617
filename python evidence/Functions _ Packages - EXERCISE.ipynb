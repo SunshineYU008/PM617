{
 "cells": [
  {
   "cell_type": "markdown",
   "metadata": {
    "colab_type": "text",
    "id": "ZvNsvUNNlZbi"
   },
   "source": [
    "---\n",
    "#Crash Course Python for Data Science - Intro to Python  \n",
    "---\n",
    "# 05 - Python Functions & Packages\n",
    "---\n",
    "\n"
   ]
  },
  {
   "cell_type": "markdown",
   "metadata": {
    "colab_type": "text",
    "id": "y8HUQb0OOztX"
   },
   "source": [
    "## STOP! BEFORE GOING ANY FURTHER...  \n",
    "\n",
    "Remember, this exercises are open book, open neighbour, open everything! Try to do them on your own before looking at the solution samples.\n",
    "\n"
   ]
  },
  {
   "cell_type": "markdown",
   "metadata": {
    "colab_type": "text",
    "id": "o57NvhYkBjKH"
   },
   "source": [
    "## Part 1: Functions\n"
   ]
  },
  {
   "cell_type": "markdown",
   "metadata": {
    "colab_type": "text",
    "id": "xMq6Of2Gt24o"
   },
   "source": [
    "### Built-in functions\n",
    "\n",
    "\n",
    "---\n",
    "\n",
    "\n",
    "Make sure to run the cell below before beginning your assignment."
   ]
  },
  {
   "cell_type": "code",
   "execution_count": 1,
   "metadata": {
    "colab": {},
    "colab_type": "code",
    "id": "h3r0IvHVuGJb"
   },
   "outputs": [],
   "source": [
    "x = [\"a\", \"b\", \"c\", \"d\", \"e\", \"f\"]"
   ]
  },
  {
   "cell_type": "markdown",
   "metadata": {
    "colab_type": "text",
    "id": "4haXpvn1QXW_"
   },
   "source": [
    "### 1.1 For the list of values provided and now saved in variable `x`, find the following:\n",
    "\n",
    "\n",
    "*   The max?\n",
    "*   The min?\n",
    "*   Number of elements in the list?\n",
    "*   Sort the list in _descending_ order.\n",
    "\n"
   ]
  },
  {
   "cell_type": "code",
   "execution_count": 2,
   "metadata": {
    "colab": {},
    "colab_type": "code",
    "id": "GnCyKxEU0BMo"
   },
   "outputs": [
    {
     "data": {
      "text/plain": [
       "'f'"
      ]
     },
     "execution_count": 2,
     "metadata": {},
     "output_type": "execute_result"
    }
   ],
   "source": [
    "# The max\n",
    "max(x)\n",
    "## YOUR CODE GOES HERE ##"
   ]
  },
  {
   "cell_type": "code",
   "execution_count": 11,
   "metadata": {
    "colab": {},
    "colab_type": "code",
    "id": "vPdrlKr90HZP"
   },
   "outputs": [
    {
     "data": {
      "text/plain": [
       "'a'"
      ]
     },
     "execution_count": 11,
     "metadata": {},
     "output_type": "execute_result"
    }
   ],
   "source": [
    "# The min\n",
    "min(x)\n",
    "### YOUR CODE GOES HERE ###"
   ]
  },
  {
   "cell_type": "code",
   "execution_count": 12,
   "metadata": {
    "colab": {},
    "colab_type": "code",
    "id": "hZjbrC3J0OhL"
   },
   "outputs": [
    {
     "data": {
      "text/plain": [
       "4"
      ]
     },
     "execution_count": 12,
     "metadata": {},
     "output_type": "execute_result"
    }
   ],
   "source": [
    "# Number of elements on the list \n",
    "len(x)\n",
    "### YOUR CODE GOES HERE ###"
   ]
  },
  {
   "cell_type": "code",
   "execution_count": 13,
   "metadata": {
    "colab": {},
    "colab_type": "code",
    "id": "pzLNrtRc0ZJo"
   },
   "outputs": [
    {
     "name": "stdout",
     "output_type": "stream",
     "text": [
      "['f', 'e', 'd', 'a']\n"
     ]
    }
   ],
   "source": [
    "# Sort the list in descending order\n",
    "x.sort(reverse=True)\n",
    "print(x)\n",
    "### YOUR CODE GOES HERE ###"
   ]
  },
  {
   "cell_type": "markdown",
   "metadata": {
    "colab_type": "text",
    "id": "zqzzZomJ0IKf"
   },
   "source": [
    "### Methods\n",
    "\n",
    "\n",
    "---\n",
    "\n"
   ]
  },
  {
   "cell_type": "markdown",
   "metadata": {
    "colab_type": "text",
    "id": "8EYDz3UtQflV"
   },
   "source": [
    "### 1.2 Using the same list:\n",
    "\n",
    "*  Remove the second to last element. \n",
    "*  Add the letter \"z\" to the list.\n",
    "*  Empty out the list.\n"
   ]
  },
  {
   "cell_type": "code",
   "execution_count": 14,
   "metadata": {
    "colab": {},
    "colab_type": "code",
    "id": "NMInCHN30pIS"
   },
   "outputs": [
    {
     "name": "stdout",
     "output_type": "stream",
     "text": [
      "['f', 'e', 'a']\n"
     ]
    }
   ],
   "source": [
    "# Remove the second to last element \n",
    "x.pop(-2)\n",
    "print(x)\n",
    "### YOUR CODE GOES HERE ###"
   ]
  },
  {
   "cell_type": "code",
   "execution_count": 17,
   "metadata": {
    "colab": {},
    "colab_type": "code",
    "id": "8dzn281l0y6F"
   },
   "outputs": [
    {
     "name": "stdout",
     "output_type": "stream",
     "text": [
      "['f', 'e', 'a', 'z', 'z']\n"
     ]
    }
   ],
   "source": [
    "# Add letter z \n",
    "x.append('z')\n",
    "print(x)\n",
    "### YOUR CODE GOES HERE ###"
   ]
  },
  {
   "cell_type": "code",
   "execution_count": 18,
   "metadata": {
    "colab": {},
    "colab_type": "code",
    "id": "PA3DoVke05zF"
   },
   "outputs": [
    {
     "name": "stdout",
     "output_type": "stream",
     "text": [
      "[]\n"
     ]
    }
   ],
   "source": [
    "# Empty the list\n",
    "x.clear()\n",
    "print(x)\n",
    "### YOUR CODE GOES HERE ###"
   ]
  },
  {
   "cell_type": "markdown",
   "metadata": {
    "colab_type": "text",
    "id": "wTJ29ehV4aEA"
   },
   "source": [
    "### 1.3 For the string `y` provided:\n",
    "\n",
    "* Split the string at every empty space."
   ]
  },
  {
   "cell_type": "code",
   "execution_count": 19,
   "metadata": {
    "colab": {},
    "colab_type": "code",
    "id": "eoKEv5uS4w29"
   },
   "outputs": [],
   "source": [
    "y = \"to thine own self be true, and it must follow, as the night the day, thou canst not then be false to any man.\""
   ]
  },
  {
   "cell_type": "code",
   "execution_count": 20,
   "metadata": {
    "colab": {},
    "colab_type": "code",
    "id": "u5rNL_-51Q2A"
   },
   "outputs": [
    {
     "data": {
      "text/plain": [
       "['to',\n",
       " 'thine',\n",
       " 'own',\n",
       " 'self',\n",
       " 'be',\n",
       " 'true,',\n",
       " 'and',\n",
       " 'it',\n",
       " 'must',\n",
       " 'follow,',\n",
       " 'as',\n",
       " 'the',\n",
       " 'night',\n",
       " 'the',\n",
       " 'day,',\n",
       " 'thou',\n",
       " 'canst',\n",
       " 'not',\n",
       " 'then',\n",
       " 'be',\n",
       " 'false',\n",
       " 'to',\n",
       " 'any',\n",
       " 'man.']"
      ]
     },
     "execution_count": 20,
     "metadata": {},
     "output_type": "execute_result"
    }
   ],
   "source": [
    "### YOUR CODE GOES HERE ###\n",
    "y.split()"
   ]
  },
  {
   "cell_type": "markdown",
   "metadata": {
    "colab_type": "text",
    "id": "B5hfG_xs0fp0"
   },
   "source": [
    "### Custom Functions\n",
    "\n",
    "\n",
    "---\n",
    "\n"
   ]
  },
  {
   "cell_type": "markdown",
   "metadata": {
    "colab_type": "text",
    "id": "SrhmB_rj0rhB"
   },
   "source": [
    "### 1.4 Create a function that returns the sum of two numbers."
   ]
  },
  {
   "cell_type": "code",
   "execution_count": 21,
   "metadata": {
    "colab": {},
    "colab_type": "code",
    "id": "XCDXo3yT1Wdw"
   },
   "outputs": [
    {
     "data": {
      "text/plain": [
       "5"
      ]
     },
     "execution_count": 21,
     "metadata": {},
     "output_type": "execute_result"
    }
   ],
   "source": [
    "### YOUR CODE GOES HERE ###\n",
    "def sum_(a,b):\n",
    "    return a+b\n",
    "sum_(2,3)"
   ]
  },
  {
   "cell_type": "markdown",
   "metadata": {
    "colab_type": "text",
    "id": "YcEwAg9w6PDQ"
   },
   "source": [
    "### 1.5 Create a function that, given a list of numbers, returns their average."
   ]
  },
  {
   "cell_type": "code",
   "execution_count": 22,
   "metadata": {
    "colab": {},
    "colab_type": "code",
    "id": "uhgwobPI1a3B"
   },
   "outputs": [
    {
     "data": {
      "text/plain": [
       "3.0"
      ]
     },
     "execution_count": 22,
     "metadata": {},
     "output_type": "execute_result"
    }
   ],
   "source": [
    "### YOUR CODE GOES HERE ###\n",
    "def av_(list):\n",
    "    return sum(list)/len(list)\n",
    "av_([1,2,3,4,5])"
   ]
  },
  {
   "cell_type": "markdown",
   "metadata": {
    "colab_type": "text",
    "id": "PDLwYCAn6PbL"
   },
   "source": [
    "### 1.6 Create a function that, given a string, returns that string capitalized and reversed. "
   ]
  },
  {
   "cell_type": "code",
   "execution_count": 24,
   "metadata": {
    "colab": {},
    "colab_type": "code",
    "id": "IMw6vPvR1fWq"
   },
   "outputs": [
    {
     "data": {
      "text/plain": [
       "'CBA'"
      ]
     },
     "execution_count": 24,
     "metadata": {},
     "output_type": "execute_result"
    }
   ],
   "source": [
    "### YOUR CODE GOES HERE ###\n",
    "def up_rev(str_):\n",
    "    return str_[::-1].upper()\n",
    "up_rev('abc')"
   ]
  },
  {
   "cell_type": "markdown",
   "metadata": {
    "colab_type": "text",
    "id": "MHeit5A_6Pot"
   },
   "source": [
    "### 1.7 Create a function that, given a list of strings, concatenates them together with proper spacing."
   ]
  },
  {
   "cell_type": "code",
   "execution_count": 25,
   "metadata": {
    "colab": {},
    "colab_type": "code",
    "id": "V9I8Sw4R1jhs"
   },
   "outputs": [
    {
     "data": {
      "text/plain": [
       "'I, love, python'"
      ]
     },
     "execution_count": 25,
     "metadata": {},
     "output_type": "execute_result"
    }
   ],
   "source": [
    "### YOUR CODE GOES HERE ###\n",
    "def concat_strings(lst):\n",
    "  separator = ', '\n",
    "  return separator.join(lst)\n",
    "\n",
    "test = ['I', 'love', 'python']\n",
    "concat_strings(test)"
   ]
  },
  {
   "cell_type": "markdown",
   "metadata": {
    "colab_type": "text",
    "id": "GFpCBnZolyWY"
   },
   "source": [
    "## Part 2: Packages"
   ]
  },
  {
   "cell_type": "markdown",
   "metadata": {
    "colab_type": "text",
    "id": "_sq5HypwyvXS"
   },
   "source": [
    "### 2.1 Import the Random library and use it to create a list of ten random numbers from 0-50.\n",
    "There are several ways to do this. Google around and find one that you can replicate here. "
   ]
  },
  {
   "cell_type": "code",
   "execution_count": 2,
   "metadata": {
    "colab": {},
    "colab_type": "code",
    "id": "FVP7sbBO1s9o"
   },
   "outputs": [
    {
     "data": {
      "text/plain": [
       "[25, 6, 36, 35, 11, 46, 42, 48, 24, 18]"
      ]
     },
     "execution_count": 2,
     "metadata": {},
     "output_type": "execute_result"
    }
   ],
   "source": [
    "### YOUR CODE GOES HERE ###\n",
    "import random\n",
    "randomnums = random.sample(range(51),10)\n",
    "randomnums"
   ]
  },
  {
   "cell_type": "code",
   "execution_count": 0,
   "metadata": {
    "cellView": "form",
    "colab": {},
    "colab_type": "code",
    "id": "XD5JruLw1wv4"
   },
   "outputs": [],
   "source": [
    "#@title Double click here for a sample solution\n",
    "\n",
    "import random\n",
    "randomnums = random.sample(range(50), 10)\n",
    "randomnums"
   ]
  },
  {
   "cell_type": "markdown",
   "metadata": {
    "colab_type": "text",
    "id": "S_-lYWqF1P3_"
   },
   "source": [
    "### 2.2 Import the Numpy library and assign it an alias \"np\". Then change the list of random numbers you generated into a Numpy array."
   ]
  },
  {
   "cell_type": "code",
   "execution_count": 4,
   "metadata": {
    "colab": {},
    "colab_type": "code",
    "id": "9ZGv7_XM11dM"
   },
   "outputs": [
    {
     "data": {
      "text/plain": [
       "array([25,  6, 36, 35, 11, 46, 42, 48, 24, 18])"
      ]
     },
     "execution_count": 4,
     "metadata": {},
     "output_type": "execute_result"
    }
   ],
   "source": [
    "### YOUR CODE GOES HERE ###\n",
    "import numpy as np\n",
    "a = np.array(randomnums)\n",
    "a"
   ]
  },
  {
   "cell_type": "markdown",
   "metadata": {
    "colab_type": "text",
    "id": "Q1E9d9Uq08U-"
   },
   "source": [
    "### 2.3 Calculate the mean of the Numpy array. (Hint: Numpy has a method for this.)\n"
   ]
  },
  {
   "cell_type": "code",
   "execution_count": 0,
   "metadata": {
    "colab": {},
    "colab_type": "code",
    "id": "u7Vrw22Y182D"
   },
   "outputs": [],
   "source": [
    "### YOUR CODE GOES HERE ###\n",
    "import numpy as np\n",
    "mean_value = np.mean(a)\n",
    "print(mean_value)"
   ]
  },
  {
   "cell_type": "markdown",
   "metadata": {
    "colab_type": "text",
    "id": "BEXzJ3DWy3MF"
   },
   "source": [
    "### BONUS: \n",
    "In the cell below, run the following command and see what happens :)  \n",
    "`import this`  \n"
   ]
  },
  {
   "cell_type": "code",
   "execution_count": 5,
   "metadata": {
    "colab": {},
    "colab_type": "code",
    "id": "M3oNCZv-zkpZ"
   },
   "outputs": [
    {
     "name": "stdout",
     "output_type": "stream",
     "text": [
      "The Zen of Python, by Tim Peters\n",
      "\n",
      "Beautiful is better than ugly.\n",
      "Explicit is better than implicit.\n",
      "Simple is better than complex.\n",
      "Complex is better than complicated.\n",
      "Flat is better than nested.\n",
      "Sparse is better than dense.\n",
      "Readability counts.\n",
      "Special cases aren't special enough to break the rules.\n",
      "Although practicality beats purity.\n",
      "Errors should never pass silently.\n",
      "Unless explicitly silenced.\n",
      "In the face of ambiguity, refuse the temptation to guess.\n",
      "There should be one-- and preferably only one --obvious way to do it.\n",
      "Although that way may not be obvious at first unless you're Dutch.\n",
      "Now is better than never.\n",
      "Although never is often better than *right* now.\n",
      "If the implementation is hard to explain, it's a bad idea.\n",
      "If the implementation is easy to explain, it may be a good idea.\n",
      "Namespaces are one honking great idea -- let's do more of those!\n"
     ]
    }
   ],
   "source": [
    "### YOUR CODE GOES HERE ###\n",
    "import this\n"
   ]
  },
  {
   "cell_type": "markdown",
   "metadata": {
    "colab_type": "text",
    "id": "qVG_ZZyfTjyB"
   },
   "source": [
    "### Make sure you save your Exercise notebook! See you next - G\n",
    "\n"
   ]
  }
 ],
 "metadata": {
  "colab": {
   "collapsed_sections": [],
   "name": "Functions & Packages - EXERCISE.ipynb",
   "provenance": [
    {
     "file_id": "1M_SORL7qd9P3HtZKjiWcT2-onrb-mGkT",
     "timestamp": 1574180912086
    },
    {
     "file_id": "1wlKS2ySxKKZ6msBXn-8S8qe-4rRoWSKI",
     "timestamp": 1566949922629
    },
    {
     "file_id": "1scRLpBtHS0jXC72opqLsj3wMHilVELnZ",
     "timestamp": 1560164436155
    },
    {
     "file_id": "1Gj8xFEghBwX8exDkdBWvNSzOUTYlNxI9",
     "timestamp": 1559546697443
    },
    {
     "file_id": "1TeHiJ5s48kWFy5BosIWhjK2MQyMkPHNo",
     "timestamp": 1559546187577
    },
    {
     "file_id": "1f_9CXFJzBvrAePaDr_WYQGHEBS5th53b",
     "timestamp": 1559541190636
    }
   ]
  },
  "kernelspec": {
   "display_name": "Python 3",
   "name": "python3"
  },
  "language_info": {
   "codemirror_mode": {
    "name": "ipython",
    "version": 3
   },
   "file_extension": ".py",
   "mimetype": "text/x-python",
   "name": "python",
   "nbconvert_exporter": "python",
   "pygments_lexer": "ipython3",
   "version": "3.13.1"
  }
 },
 "nbformat": 4,
 "nbformat_minor": 0
}
